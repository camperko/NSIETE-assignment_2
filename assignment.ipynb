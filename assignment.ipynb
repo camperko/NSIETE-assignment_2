{
 "cells": [
  {
   "cell_type": "code",
   "execution_count": 1,
   "metadata": {
    "collapsed": true
   },
   "outputs": [
    {
     "name": "stderr",
     "output_type": "stream",
     "text": [
      "wandb: Currently logged in as: camperko (use `wandb login --relogin` to force relogin)\n"
     ]
    },
    {
     "data": {
      "text/plain": "True"
     },
     "execution_count": 1,
     "metadata": {},
     "output_type": "execute_result"
    }
   ],
   "source": [
    "import os\n",
    "import cv2\n",
    "from os import path\n",
    "\n",
    "import numpy as np\n",
    "import sklearn as sk\n",
    "import matplotlib.pyplot as plt\n",
    "import pandas as pd\n",
    "\n",
    "from tensorflow import keras\n",
    "from keras import regularizers\n",
    "from keras.models import Sequential\n",
    "from keras.layers import Conv2D, MaxPooling2D, Dense, Dropout, Flatten\n",
    "from keras.utils import to_categorical\n",
    "from keras import regularizers\n",
    "from sklearn.model_selection import train_test_split\n",
    "from skimage.io import imread\n",
    "from skimage.transform import resize\n",
    "from skimage.color import rgb2gray\n",
    "from skimage import exposure\n",
    "from random import sample\n",
    "\n",
    "import wandb\n",
    "from wandb import AlertLevel\n",
    "from datetime import timedelta\n",
    "\n",
    "wandb.login()"
   ]
  },
  {
   "cell_type": "code",
   "execution_count": 6,
   "outputs": [
    {
     "data": {
      "text/plain": "                  image                           labels\n0  800113bb65efe69e.jpg                          healthy\n1  8002cb321f8bfcdf.jpg  scab frog_eye_leaf_spot complex\n2  80070f7fb5e2ccaa.jpg                             scab\n3  80077517781fb94f.jpg                             scab\n4  800cbf0ff87721f8.jpg                          complex",
      "text/html": "<div>\n<style scoped>\n    .dataframe tbody tr th:only-of-type {\n        vertical-align: middle;\n    }\n\n    .dataframe tbody tr th {\n        vertical-align: top;\n    }\n\n    .dataframe thead th {\n        text-align: right;\n    }\n</style>\n<table border=\"1\" class=\"dataframe\">\n  <thead>\n    <tr style=\"text-align: right;\">\n      <th></th>\n      <th>image</th>\n      <th>labels</th>\n    </tr>\n  </thead>\n  <tbody>\n    <tr>\n      <th>0</th>\n      <td>800113bb65efe69e.jpg</td>\n      <td>healthy</td>\n    </tr>\n    <tr>\n      <th>1</th>\n      <td>8002cb321f8bfcdf.jpg</td>\n      <td>scab frog_eye_leaf_spot complex</td>\n    </tr>\n    <tr>\n      <th>2</th>\n      <td>80070f7fb5e2ccaa.jpg</td>\n      <td>scab</td>\n    </tr>\n    <tr>\n      <th>3</th>\n      <td>80077517781fb94f.jpg</td>\n      <td>scab</td>\n    </tr>\n    <tr>\n      <th>4</th>\n      <td>800cbf0ff87721f8.jpg</td>\n      <td>complex</td>\n    </tr>\n  </tbody>\n</table>\n</div>"
     },
     "execution_count": 6,
     "metadata": {},
     "output_type": "execute_result"
    }
   ],
   "source": [
    "labels = pd.read_csv('data/train.csv')\n",
    "labels.head()"
   ],
   "metadata": {
    "collapsed": false,
    "pycharm": {
     "name": "#%%\n"
    }
   }
  },
  {
   "cell_type": "code",
   "execution_count": 7,
   "outputs": [
    {
     "name": "stderr",
     "output_type": "stream",
     "text": [
      "<ipython-input-7-6b7e234d1804>:16: SettingWithCopyWarning: \n",
      "A value is trying to be set on a copy of a slice from a DataFrame\n",
      "\n",
      "See the caveats in the documentation: https://pandas.pydata.org/pandas-docs/stable/user_guide/indexing.html#returning-a-view-versus-a-copy\n",
      "  labels[part][index] = 1\n"
     ]
    }
   ],
   "source": [
    "categories = []\n",
    "for index, row in labels.iterrows():\n",
    "    parts = row['labels'].split(' ')\n",
    "    for part in parts:\n",
    "        if part not in categories:\n",
    "            categories.append(part)\n",
    "\n",
    "category_dict = {}\n",
    "for category in categories:\n",
    "    labels[category] = np.zeros(labels.shape[0])\n",
    "    category_dict[category] = 0\n",
    "\n",
    "for index, row in labels.iterrows():\n",
    "    parts = row['labels'].split(' ')\n",
    "    for part in parts:\n",
    "        labels[part][index] = 1\n",
    "        category_dict[part] += 1\n",
    "\n",
    "labels = labels.drop(['labels'], axis=1)"
   ],
   "metadata": {
    "collapsed": false,
    "pycharm": {
     "name": "#%%\n"
    }
   }
  },
  {
   "cell_type": "code",
   "execution_count": 8,
   "outputs": [],
   "source": [
    "import hashlib\n",
    "import os\n",
    "\n",
    "def file_hash(path):\n",
    "    with open(path, 'rb') as f:\n",
    "        return hashlib.md5(f.read()).hexdigest()\n",
    "\n",
    "duplicates = []\n",
    "hash_set = []\n",
    "\n",
    "for index, row in labels.iterrows():\n",
    "    image = row['image']\n",
    "    calc_hash = file_hash(os.getcwd() + '\\\\data\\\\train_images\\\\' + image)\n",
    "    if calc_hash in hash_set:\n",
    "        duplicate_index = hash_set.index(calc_hash)\n",
    "        duplicates.append((duplicate_index, index))\n",
    "    hash_set.append(calc_hash)"
   ],
   "metadata": {
    "collapsed": false,
    "pycharm": {
     "name": "#%%\n"
    }
   }
  },
  {
   "cell_type": "code",
   "execution_count": 15,
   "outputs": [
    {
     "name": "stderr",
     "output_type": "stream",
     "text": [
      "<ipython-input-15-0d25d05ee0f6>:6: SettingWithCopyWarning: \n",
      "A value is trying to be set on a copy of a slice from a DataFrame\n",
      "\n",
      "See the caveats in the documentation: https://pandas.pydata.org/pandas-docs/stable/user_guide/indexing.html#returning-a-view-versus-a-copy\n",
      "  labels[category][dup[0]] = 1\n"
     ]
    }
   ],
   "source": [
    "new_labels = labels.copy()\n",
    "to_remove = []\n",
    "for dup in duplicates:\n",
    "    for category in categories:\n",
    "        if labels[category][dup[1]] == 1:\n",
    "            labels[category][dup[0]] = 1\n",
    "    to_remove.append(dup[1])\n",
    "\n",
    "to_remove.sort(reverse=True)\n",
    "\n",
    "removed_images = []\n",
    "for rem in to_remove:\n",
    "    removed_images.append(labels['image'][rem])\n",
    "    new_labels = new_labels.drop(index=rem)\n",
    "    if path.exists('data/train_images/' + labels['image'][rem]):\n",
    "        os.remove(os.getcwd() + '\\\\data\\\\train_images\\\\' + labels['image'][rem])"
   ],
   "metadata": {
    "collapsed": false,
    "pycharm": {
     "name": "#%%\n"
    }
   }
  },
  {
   "cell_type": "code",
   "execution_count": 16,
   "outputs": [],
   "source": [
    "config = {\"lr\": 1e-5,\n",
    "          \"num_epoch\": 100,\n",
    "          \"size\": 512,\n",
    "          \"optimizer\": \"adam\"}\n",
    "\n",
    "def normalize_image(in_image):\n",
    "    sharpen_kernel = np.array([[-0.5, -0.5, -0.5],\n",
    "                               [-0.5,    5, -0.5],\n",
    "                               [-0.5, -0.5, -0.5]])\n",
    "\n",
    "    # resized\n",
    "    resized_image = resize(in_image, (config[\"size\"], config[\"size\"]), anti_aliasing=True)\n",
    "\n",
    "    # with expo\n",
    "    # expo_image = exposure.equalize_adapthist(resized_image, clip_limit=0.03)\n",
    "\n",
    "    # after sharpen expo\n",
    "    sharpen_image = cv2.filter2D(resized_image, -1, sharpen_kernel)\n",
    "\n",
    "    # after gray sharpen expo\n",
    "    # sharpen_expo_gray_image = rgb2gray(sharpen_expo_image)\n",
    "\n",
    "    return sharpen_image\n",
    "\n",
    "image_set = []\n",
    "labels_set = []\n",
    "\n",
    "for index, row in new_labels.iterrows():\n",
    "    if path.exists('data/train_images/' + row['image']):\n",
    "        image_normalized = normalize_image(imread('data/train_images/' + row['image']))\n",
    "        image_set.append(image_normalized)\n",
    "        labels_set.append(row)\n",
    "    if index == 100:\n",
    "        break\n",
    "        \n",
    "labels_set = pd.DataFrame(labels_set)"
   ],
   "metadata": {
    "collapsed": false,
    "pycharm": {
     "name": "#%%\n"
    }
   }
  },
  {
   "cell_type": "code",
   "execution_count": 17,
   "outputs": [
    {
     "name": "stdout",
     "output_type": "stream",
     "text": [
      "Model: \"sequential\"\n",
      "_________________________________________________________________\n",
      "Layer (type)                 Output Shape              Param #   \n",
      "=================================================================\n",
      "conv2d (Conv2D)              (None, 512, 512, 64)      1792      \n",
      "_________________________________________________________________\n",
      "conv2d_1 (Conv2D)            (None, 512, 512, 128)     73856     \n",
      "_________________________________________________________________\n",
      "max_pooling2d (MaxPooling2D) (None, 171, 171, 128)     0         \n",
      "_________________________________________________________________\n",
      "dropout (Dropout)            (None, 171, 171, 128)     0         \n",
      "_________________________________________________________________\n",
      "flatten (Flatten)            (None, 3742848)           0         \n",
      "_________________________________________________________________\n",
      "dense (Dense)                (None, 512)               1916338688\n",
      "_________________________________________________________________\n",
      "dropout_1 (Dropout)          (None, 512)               0         \n",
      "_________________________________________________________________\n",
      "dense_1 (Dense)              (None, 512)               262656    \n",
      "_________________________________________________________________\n",
      "dropout_2 (Dropout)          (None, 512)               0         \n",
      "_________________________________________________________________\n",
      "dense_2 (Dense)              (None, 6)                 3078      \n",
      "=================================================================\n",
      "Total params: 1,916,680,070\n",
      "Trainable params: 1,916,680,070\n",
      "Non-trainable params: 0\n",
      "_________________________________________________________________\n"
     ]
    }
   ],
   "source": [
    "model = Sequential()\n",
    "\n",
    "model.add(Conv2D(64, input_shape=(config['size'], config['size'], 3), kernel_size=(3, 3), padding='same', activation='relu'))\n",
    "model.add(Conv2D(128, kernel_size=(3, 3), padding='same', activation='relu'))\n",
    "model.add(MaxPooling2D(pool_size=(3, 3), padding='same'))\n",
    "model.add(Dropout(0.25))\n",
    "\n",
    "model.add(Flatten())\n",
    "model.add(Dense(512, activation = 'relu'))\n",
    "model.add(Dropout(0.5))\n",
    "\n",
    "model.add(Dense(512, activation = 'relu', kernel_regularizer = regularizers.l2(0.001)))\n",
    "model.add(Dropout(0.5))\n",
    "\n",
    "model.add(Dense(6, activation='sigmoid'))\n",
    "\n",
    "model.summary()\n"
   ],
   "metadata": {
    "collapsed": false,
    "pycharm": {
     "name": "#%%\n"
    }
   }
  },
  {
   "cell_type": "code",
   "execution_count": 18,
   "outputs": [
    {
     "data": {
      "text/plain": "array([[0.47277465, 0.49395263, 0.49551615, 0.5039826 , 0.4788181 ,\n        0.49206182],\n       [0.4736737 , 0.49760833, 0.49583256, 0.5084543 , 0.47841865,\n        0.5009205 ],\n       [0.46796238, 0.49271357, 0.49354723, 0.50863826, 0.4774256 ,\n        0.49857545],\n       [0.46800625, 0.491346  , 0.49648926, 0.5072556 , 0.48068482,\n        0.4979735 ],\n       [0.46549615, 0.49764776, 0.4944974 , 0.5048449 , 0.482241  ,\n        0.49683017],\n       [0.470128  , 0.49501783, 0.4906391 , 0.5107676 , 0.47649935,\n        0.4905801 ],\n       [0.4718315 , 0.5007675 , 0.49330798, 0.50693136, 0.4786547 ,\n        0.49684024],\n       [0.48158857, 0.49155653, 0.49225056, 0.505018  , 0.4844087 ,\n        0.50031227],\n       [0.47148138, 0.4959215 , 0.4973664 , 0.5063042 , 0.48069572,\n        0.5003324 ],\n       [0.47344   , 0.49973187, 0.49932143, 0.50997525, 0.4795876 ,\n        0.49834764],\n       [0.4679477 , 0.49741113, 0.49670827, 0.5066102 , 0.48722026,\n        0.5014159 ],\n       [0.47452816, 0.49628606, 0.49350864, 0.50813544, 0.47961518,\n        0.49506152],\n       [0.47563455, 0.49749663, 0.5021707 , 0.5102995 , 0.47757998,\n        0.49683723],\n       [0.47131974, 0.49778265, 0.49689284, 0.4960088 , 0.4746625 ,\n        0.49926847],\n       [0.47246942, 0.4963063 , 0.4951182 , 0.50445914, 0.47354788,\n        0.4938403 ],\n       [0.47724864, 0.49105456, 0.4985405 , 0.50896436, 0.47670078,\n        0.4923048 ],\n       [0.48034173, 0.4972177 , 0.4938663 , 0.50325006, 0.48125482,\n        0.4970107 ],\n       [0.4676064 , 0.48456842, 0.50007915, 0.5073581 , 0.47272483,\n        0.50085604],\n       [0.4665791 , 0.488779  , 0.49390647, 0.504142  , 0.4780609 ,\n        0.50526893],\n       [0.47653592, 0.4925386 , 0.4966887 , 0.5086067 , 0.48681584,\n        0.50009435],\n       [0.47090328, 0.49046546, 0.49970698, 0.5056477 , 0.47535825,\n        0.5024513 ],\n       [0.48256123, 0.50112927, 0.49121547, 0.5050798 , 0.48053434,\n        0.5050379 ],\n       [0.47817808, 0.49693248, 0.49628183, 0.5017067 , 0.48276725,\n        0.5005557 ],\n       [0.47270426, 0.5008743 , 0.49894103, 0.50697243, 0.47546422,\n        0.49316895],\n       [0.47451526, 0.5004176 , 0.502953  , 0.5043676 , 0.4791079 ,\n        0.50646216],\n       [0.47486886, 0.4960555 , 0.5077746 , 0.50728875, 0.47335264,\n        0.5010128 ],\n       [0.4832715 , 0.49932525, 0.5062335 , 0.50145644, 0.48306888,\n        0.49796265],\n       [0.48401305, 0.5054515 , 0.49344558, 0.50537723, 0.4833229 ,\n        0.5034257 ],\n       [0.47520205, 0.5031601 , 0.49702385, 0.5068468 , 0.48028475,\n        0.49817458],\n       [0.4753012 , 0.49339482, 0.49175435, 0.5069674 , 0.48406416,\n        0.49922827],\n       [0.47617465, 0.49406117, 0.51297176, 0.5043244 , 0.47663257,\n        0.4976753 ],\n       [0.46946892, 0.49854204, 0.50052035, 0.50556356, 0.48170078,\n        0.4987133 ],\n       [0.4736752 , 0.49648955, 0.49425516, 0.5051532 , 0.48219553,\n        0.49755388],\n       [0.46896845, 0.49222982, 0.4972572 , 0.5045001 , 0.4830911 ,\n        0.49802288],\n       [0.47184524, 0.5028746 , 0.4975088 , 0.49980065, 0.48659664,\n        0.49880207],\n       [0.4728575 , 0.49342552, 0.4935494 , 0.5171688 , 0.4670904 ,\n        0.50675386],\n       [0.47563782, 0.49886134, 0.5024243 , 0.51692474, 0.48373273,\n        0.4972365 ],\n       [0.46693352, 0.49518868, 0.49489215, 0.50150824, 0.4808427 ,\n        0.4985448 ],\n       [0.4705899 , 0.4990771 , 0.49619594, 0.49991417, 0.47987896,\n        0.49581733],\n       [0.46638596, 0.4970815 , 0.50189936, 0.4973842 , 0.4816221 ,\n        0.5095516 ],\n       [0.47524917, 0.5008574 , 0.49710986, 0.5039463 , 0.48323542,\n        0.5028723 ],\n       [0.471434  , 0.4990398 , 0.4923096 , 0.5013064 , 0.47646052,\n        0.49995905],\n       [0.4711217 , 0.49726945, 0.49224302, 0.5079521 , 0.48096332,\n        0.49712205],\n       [0.47354847, 0.4981317 , 0.49069503, 0.5071937 , 0.4820126 ,\n        0.5000252 ],\n       [0.4695401 , 0.49100772, 0.5001432 , 0.49613395, 0.48353288,\n        0.50199175],\n       [0.47625428, 0.49194133, 0.49202013, 0.5114525 , 0.4849195 ,\n        0.49657574],\n       [0.47676024, 0.49900407, 0.49788365, 0.50105613, 0.48265395,\n        0.50034994],\n       [0.47031623, 0.504369  , 0.48409903, 0.50934315, 0.4903685 ,\n        0.5000729 ],\n       [0.47253814, 0.49648535, 0.4993855 , 0.5043305 , 0.47959644,\n        0.49584478],\n       [0.47708857, 0.49442714, 0.4940337 , 0.5097169 , 0.47894472,\n        0.5010803 ],\n       [0.46498972, 0.4893854 , 0.5004305 , 0.5023502 , 0.47450718,\n        0.49175277],\n       [0.4693345 , 0.4965906 , 0.49644732, 0.497203  , 0.4755576 ,\n        0.49445063],\n       [0.47332573, 0.49663648, 0.4976804 , 0.5002509 , 0.48531887,\n        0.49741274],\n       [0.47255835, 0.49440232, 0.50017464, 0.5037079 , 0.48361218,\n        0.50522864],\n       [0.47805694, 0.50008047, 0.49845326, 0.50092024, 0.48612264,\n        0.5004684 ],\n       [0.46770233, 0.5000995 , 0.49934098, 0.50086975, 0.48231587,\n        0.4980056 ],\n       [0.46382886, 0.49178705, 0.49666464, 0.5083321 , 0.48254776,\n        0.4961548 ],\n       [0.47284222, 0.49597228, 0.492925  , 0.5031144 , 0.48428822,\n        0.49987826],\n       [0.46261576, 0.48558286, 0.4982481 , 0.5085186 , 0.4781516 ,\n        0.50011414],\n       [0.46691415, 0.49750295, 0.49459445, 0.5080879 , 0.48300052,\n        0.4906814 ],\n       [0.48255187, 0.49016523, 0.50219154, 0.5006507 , 0.47436985,\n        0.50046   ],\n       [0.4683012 , 0.49747434, 0.49443763, 0.5043814 , 0.4781143 ,\n        0.49737835],\n       [0.4693422 , 0.4903142 , 0.5000111 , 0.50051165, 0.47864604,\n        0.4980349 ],\n       [0.47916836, 0.49057263, 0.4969284 , 0.5002478 , 0.48249188,\n        0.497923  ],\n       [0.47043657, 0.49056625, 0.5043131 , 0.50183564, 0.4757358 ,\n        0.50090504],\n       [0.46929926, 0.49575382, 0.49113753, 0.5036617 , 0.47961116,\n        0.49055934],\n       [0.4716096 , 0.4954534 , 0.49827638, 0.5074391 , 0.48197815,\n        0.49461994],\n       [0.47795913, 0.4987462 , 0.49464995, 0.49932307, 0.48052263,\n        0.4959727 ],\n       [0.47174725, 0.48519084, 0.5000639 , 0.4999376 , 0.47964382,\n        0.49169165],\n       [0.47319257, 0.4940697 , 0.49411368, 0.5008765 , 0.48125315,\n        0.5041979 ],\n       [0.47830415, 0.50022584, 0.49529922, 0.5086878 , 0.4808637 ,\n        0.5013354 ],\n       [0.47353545, 0.49335274, 0.50129026, 0.5036363 , 0.4766558 ,\n        0.49301016],\n       [0.47315794, 0.49896446, 0.49464458, 0.5054644 , 0.48164353,\n        0.49881876],\n       [0.4725188 , 0.49002272, 0.49329183, 0.5094824 , 0.48298824,\n        0.4991723 ],\n       [0.47305274, 0.49586672, 0.49260253, 0.5052381 , 0.4808204 ,\n        0.49424398],\n       [0.48110166, 0.49056292, 0.49557617, 0.49854633, 0.47421542,\n        0.49767098],\n       [0.47110102, 0.49331564, 0.49490106, 0.5036195 , 0.47763193,\n        0.49938634],\n       [0.4757823 , 0.5023242 , 0.49395195, 0.50032455, 0.47772193,\n        0.49638587],\n       [0.474293  , 0.49647695, 0.49598962, 0.50307864, 0.48023763,\n        0.49691555],\n       [0.46665508, 0.49811968, 0.49505103, 0.49861732, 0.48239425,\n        0.49912447],\n       [0.4698397 , 0.49248427, 0.4957546 , 0.50866425, 0.48499274,\n        0.4964897 ],\n       [0.47873157, 0.49428976, 0.49378824, 0.4997409 , 0.48280135,\n        0.49707958],\n       [0.46895155, 0.49470392, 0.49460384, 0.50670797, 0.47996783,\n        0.49434417],\n       [0.47941133, 0.489381  , 0.49897942, 0.5160827 , 0.47790676,\n        0.50193936],\n       [0.47802565, 0.49897766, 0.49186823, 0.5051193 , 0.48111308,\n        0.49190283],\n       [0.47732154, 0.49302584, 0.49276164, 0.50496286, 0.46910247,\n        0.50230914],\n       [0.470783  , 0.4975834 , 0.49319258, 0.51466036, 0.47695208,\n        0.49349886],\n       [0.47185805, 0.49152273, 0.49801588, 0.5047957 , 0.48147073,\n        0.4943232 ],\n       [0.4763039 , 0.4930513 , 0.500015  , 0.50856817, 0.47550702,\n        0.50392455],\n       [0.47695315, 0.49775046, 0.49864244, 0.5080178 , 0.4832195 ,\n        0.5041819 ],\n       [0.47945717, 0.4899623 , 0.4995496 , 0.51144916, 0.48074424,\n        0.5020013 ],\n       [0.47484902, 0.49347666, 0.5023088 , 0.50829434, 0.47660753,\n        0.5077125 ],\n       [0.47891682, 0.5025912 , 0.49388573, 0.5096108 , 0.4716452 ,\n        0.49710587],\n       [0.47012588, 0.5035407 , 0.49609622, 0.50377375, 0.4751711 ,\n        0.50348485],\n       [0.47125608, 0.49163753, 0.4962597 , 0.50951296, 0.4814639 ,\n        0.49423197],\n       [0.47423902, 0.49931   , 0.4973742 , 0.5055142 , 0.48312134,\n        0.49500826],\n       [0.4765718 , 0.49599212, 0.498655  , 0.504818  , 0.4764885 ,\n        0.49399468],\n       [0.47943026, 0.4904593 , 0.49848694, 0.5060321 , 0.47714913,\n        0.49786794],\n       [0.47813788, 0.4853954 , 0.49740982, 0.50468516, 0.48232174,\n        0.4975617 ],\n       [0.4734368 , 0.49525377, 0.5000895 , 0.50587505, 0.4842388 ,\n        0.4955052 ],\n       [0.47078624, 0.5001094 , 0.5016444 , 0.50237864, 0.4823428 ,\n        0.49876565]], dtype=float32)"
     },
     "execution_count": 18,
     "metadata": {},
     "output_type": "execute_result"
    }
   ],
   "source": [
    "opt = keras.optimizers.Adam(learning_rate=config['lr'])\n",
    "model.compile(loss='binary_crossentropy',\n",
    "              optimizer=opt,\n",
    "              metrics=['accuracy'])\n",
    "\n",
    "model.predict(np.asarray(image_set))"
   ],
   "metadata": {
    "collapsed": false,
    "pycharm": {
     "name": "#%%\n"
    }
   }
  }
 ],
 "metadata": {
  "kernelspec": {
   "display_name": "Python 3",
   "language": "python",
   "name": "python3"
  },
  "language_info": {
   "codemirror_mode": {
    "name": "ipython",
    "version": 2
   },
   "file_extension": ".py",
   "mimetype": "text/x-python",
   "name": "python",
   "nbconvert_exporter": "python",
   "pygments_lexer": "ipython2",
   "version": "2.7.6"
  }
 },
 "nbformat": 4,
 "nbformat_minor": 0
}