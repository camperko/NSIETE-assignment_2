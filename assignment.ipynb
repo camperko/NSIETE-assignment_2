{
 "cells": [
  {
   "cell_type": "code",
   "execution_count": 1,
   "metadata": {
    "collapsed": true
   },
   "outputs": [
    {
     "name": "stderr",
     "output_type": "stream",
     "text": [
      "wandb: Currently logged in as: camperko (use `wandb login --relogin` to force relogin)\n"
     ]
    },
    {
     "data": {
      "text/plain": "True"
     },
     "execution_count": 1,
     "metadata": {},
     "output_type": "execute_result"
    }
   ],
   "source": [
    "import os\n",
    "import cv2\n",
    "\n",
    "import numpy as np\n",
    "import sklearn as sk\n",
    "import matplotlib.pyplot as plt\n",
    "import pandas as pd\n",
    "\n",
    "from keras import regularizers\n",
    "from keras.models import Sequential\n",
    "from keras.layers import Conv2D, MaxPooling2D, Dense, Dropout, Flatten\n",
    "from keras.utils import to_categorical\n",
    "from keras import regularizers\n",
    "from sklearn.model_selection import train_test_split\n",
    "from skimage.io import imread\n",
    "from skimage.transform import resize\n",
    "from skimage.color import rgb2gray\n",
    "from skimage import exposure\n",
    "from random import sample\n",
    "\n",
    "import wandb\n",
    "from wandb import AlertLevel\n",
    "from datetime import timedelta\n",
    "\n",
    "wandb.login()"
   ]
  },
  {
   "cell_type": "code",
   "execution_count": 7,
   "outputs": [
    {
     "data": {
      "text/plain": "'scab frog_eye_leaf_spot complex'"
     },
     "execution_count": 7,
     "metadata": {},
     "output_type": "execute_result"
    }
   ],
   "source": [
    "labels = pd.read_csv('data/train.csv')\n",
    "labels.head()"
   ],
   "metadata": {
    "collapsed": false,
    "pycharm": {
     "name": "#%%\n"
    }
   }
  },
  {
   "cell_type": "code",
   "execution_count": 10,
   "outputs": [
    {
     "name": "stderr",
     "output_type": "stream",
     "text": [
      "<ipython-input-10-7c883e46b122>:14: SettingWithCopyWarning: \n",
      "A value is trying to be set on a copy of a slice from a DataFrame\n",
      "\n",
      "See the caveats in the documentation: https://pandas.pydata.org/pandas-docs/stable/user_guide/indexing.html#returning-a-view-versus-a-copy\n",
      "  labels[part][index] = 1\n"
     ]
    }
   ],
   "source": [
    "categories = []\n",
    "for index, row in labels.iterrows():\n",
    "    parts = row['labels'].split(' ')\n",
    "    for part in parts:\n",
    "        if part not in categories:\n",
    "            categories.append(part)\n",
    "\n",
    "for category in categories:\n",
    "    labels[category] = np.zeros(labels.shape[0])\n",
    "\n",
    "for index, row in labels.iterrows():\n",
    "    parts = row['labels'].split(' ')\n",
    "    for part in parts:\n",
    "        labels[part][index] = 1\n",
    "\n",
    "labels = labels.drop(['labels'], axis=1)"
   ],
   "metadata": {
    "collapsed": false,
    "pycharm": {
     "name": "#%%\n"
    }
   }
  },
  {
   "cell_type": "code",
   "execution_count": null,
   "outputs": [],
   "source": [
    "config = {\"lr\": 1e-5,\n",
    "          \"num_epoch\": 100,\n",
    "          \"size\": 512,\n",
    "          \"optimizer\": \"adam\"}\n",
    "\n",
    "def normalize_image(in_image):\n",
    "    sharpen_kernel = np.array([[-0.5, -0.5, -0.5],\n",
    "                               [-0.5,    5, -0.5],\n",
    "                               [-0.5, -0.5, -0.5]])\n",
    "\n",
    "    # resized\n",
    "    resized_image = resize(in_image, (config[\"size\"], config[\"size\"]), anti_aliasing=True)\n",
    "\n",
    "    # with expo\n",
    "    # expo_image = exposure.equalize_adapthist(resized_image, clip_limit=0.03)\n",
    "\n",
    "    # after sharpen expo\n",
    "    sharpen_image = cv2.filter2D(resized_image, -1, sharpen_kernel)\n",
    "\n",
    "    # after gray sharpen expo\n",
    "    # sharpen_expo_gray_image = rgb2gray(sharpen_expo_image)\n",
    "\n",
    "    return sharpen_image\n",
    "\n",
    "image_set = []\n",
    "\n",
    "for image in labels['image']:\n",
    "    image_normalized = normalize_image(imread('data/train_images/' + image))\n",
    "    image_set.append(image_normalized)"
   ],
   "metadata": {
    "collapsed": false,
    "pycharm": {
     "name": "#%%\n"
    }
   }
  },
  {
   "cell_type": "code",
   "execution_count": null,
   "outputs": [],
   "source": [
    "model = Sequential()\n",
    "\n",
    "model.add(Conv2D(64, input_shape=(100, 100, 3), kernel_size=(3, 3), padding='same', activation='relu'))\n",
    "model.add(Conv2D(128, kernel_size=(3, 3), padding='same', activation='relu'))\n",
    "model.add(MaxPooling2D(pool_size=(3, 3), padding='same'))\n",
    "model.add(Dropout(0.25))\n",
    "\n",
    "model.add(Conv2D(128, kernel_size=(3, 3), padding='same', activation='relu'))\n",
    "model.add(Conv2D(256, kernel_size=(3, 3), padding='same', activation='relu'))\n",
    "model.add(MaxPooling2D(pool_size=(3, 3), padding='same'))\n",
    "model.add(Dropout(0.25))\n",
    "\n",
    "model.add(Conv2D(256, kernel_size=(3, 3), padding='same', activation='relu'))\n",
    "model.add(Conv2D(512, kernel_size=(3, 3), padding='same', activation='relu'))\n",
    "model.add(MaxPooling2D(pool_size=(3, 3), padding='same'))\n",
    "model.add(Dropout(0.25))\n",
    "\n",
    "model.add(Flatten())\n",
    "model.add(Dense(512, activation = 'relu'))\n",
    "model.add(Dropout(0.5))\n",
    "\n",
    "model.add(Dense(512, activation = 'relu', kernel_regularizer = regularizers.l2(0.001)))\n",
    "model.add(Dropout(0.5))\n",
    "\n",
    "model.add(Dense(26, activation='softmax'))\n",
    "\n",
    "model.summary()\n"
   ],
   "metadata": {
    "collapsed": false,
    "pycharm": {
     "name": "#%%\n"
    }
   }
  },
  {
   "cell_type": "code",
   "execution_count": null,
   "outputs": [],
   "source": [],
   "metadata": {
    "collapsed": false,
    "pycharm": {
     "name": "#%%\n"
    }
   }
  }
 ],
 "metadata": {
  "kernelspec": {
   "display_name": "Python 3",
   "language": "python",
   "name": "python3"
  },
  "language_info": {
   "codemirror_mode": {
    "name": "ipython",
    "version": 2
   },
   "file_extension": ".py",
   "mimetype": "text/x-python",
   "name": "python",
   "nbconvert_exporter": "python",
   "pygments_lexer": "ipython2",
   "version": "2.7.6"
  }
 },
 "nbformat": 4,
 "nbformat_minor": 0
}