{
 "cells": [
  {
   "cell_type": "code",
   "execution_count": 1,
   "metadata": {
    "collapsed": true
   },
   "outputs": [
    {
     "name": "stderr",
     "output_type": "stream",
     "text": [
      "wandb: Currently logged in as: camperko (use `wandb login --relogin` to force relogin)\n"
     ]
    },
    {
     "data": {
      "text/plain": "True"
     },
     "execution_count": 1,
     "metadata": {},
     "output_type": "execute_result"
    }
   ],
   "source": [
    "import cv2\n",
    "import wandb\n",
    "\n",
    "import numpy as np\n",
    "import matplotlib.pyplot as plt\n",
    "import pandas as pd\n",
    "import tensorflow as tf\n",
    "import tensorflow_addons as tfa\n",
    "\n",
    "from os import path\n",
    "from tensorflow.keras.models import Sequential\n",
    "from tensorflow.keras.layers import Dense, Dropout, Flatten, Conv2D, MaxPooling2D, ZeroPadding2D\n",
    "from tensorflow.keras.layers import Activation\n",
    "from sklearn.model_selection import train_test_split\n",
    "from sklearn.utils import shuffle\n",
    "from wandb.keras import WandbCallback\n",
    "\n",
    "wandb.login()"
   ]
  },
  {
   "cell_type": "code",
   "execution_count": 2,
   "outputs": [
    {
     "name": "stdout",
     "output_type": "stream",
     "text": [
      "WARNING:tensorflow:From <ipython-input-2-e41ef90d59fe>:1: is_gpu_available (from tensorflow.python.framework.test_util) is deprecated and will be removed in a future version.\n",
      "Instructions for updating:\n",
      "Use `tf.config.list_physical_devices('GPU')` instead.\n"
     ]
    },
    {
     "data": {
      "text/plain": "True"
     },
     "execution_count": 2,
     "metadata": {},
     "output_type": "execute_result"
    }
   ],
   "source": [
    "tf.test.is_gpu_available(cuda_only=False, min_cuda_compute_capability=None)"
   ],
   "metadata": {
    "collapsed": false,
    "pycharm": {
     "name": "#%%\n"
    }
   }
  },
  {
   "cell_type": "code",
   "execution_count": 3,
   "outputs": [
    {
     "name": "stdout",
     "output_type": "stream",
     "text": [
      "Num GPUs: 1\n"
     ]
    }
   ],
   "source": [
    "physical_devices = tf.config.list_physical_devices('GPU')\n",
    "print(\"Num GPUs:\", len(physical_devices))"
   ],
   "metadata": {
    "collapsed": false,
    "pycharm": {
     "name": "#%%\n"
    }
   }
  },
  {
   "cell_type": "code",
   "execution_count": 13,
   "outputs": [
    {
     "data": {
      "text/plain": "                  image                           labels\n0  800113bb65efe69e.jpg                          healthy\n1  8002cb321f8bfcdf.jpg  scab frog_eye_leaf_spot complex\n2  80070f7fb5e2ccaa.jpg                             scab\n3  80077517781fb94f.jpg                             scab\n4  800cbf0ff87721f8.jpg                          complex",
      "text/html": "<div>\n<style scoped>\n    .dataframe tbody tr th:only-of-type {\n        vertical-align: middle;\n    }\n\n    .dataframe tbody tr th {\n        vertical-align: top;\n    }\n\n    .dataframe thead th {\n        text-align: right;\n    }\n</style>\n<table border=\"1\" class=\"dataframe\">\n  <thead>\n    <tr style=\"text-align: right;\">\n      <th></th>\n      <th>image</th>\n      <th>labels</th>\n    </tr>\n  </thead>\n  <tbody>\n    <tr>\n      <th>0</th>\n      <td>800113bb65efe69e.jpg</td>\n      <td>healthy</td>\n    </tr>\n    <tr>\n      <th>1</th>\n      <td>8002cb321f8bfcdf.jpg</td>\n      <td>scab frog_eye_leaf_spot complex</td>\n    </tr>\n    <tr>\n      <th>2</th>\n      <td>80070f7fb5e2ccaa.jpg</td>\n      <td>scab</td>\n    </tr>\n    <tr>\n      <th>3</th>\n      <td>80077517781fb94f.jpg</td>\n      <td>scab</td>\n    </tr>\n    <tr>\n      <th>4</th>\n      <td>800cbf0ff87721f8.jpg</td>\n      <td>complex</td>\n    </tr>\n  </tbody>\n</table>\n</div>"
     },
     "execution_count": 13,
     "metadata": {},
     "output_type": "execute_result"
    }
   ],
   "source": [
    "labels = pd.read_csv('data/train.csv')\n",
    "labels.head()"
   ],
   "metadata": {
    "collapsed": false,
    "pycharm": {
     "name": "#%%\n"
    }
   }
  },
  {
   "cell_type": "code",
   "execution_count": 14,
   "outputs": [
    {
     "name": "stderr",
     "output_type": "stream",
     "text": [
      "<ipython-input-14-6b7e234d1804>:16: SettingWithCopyWarning: \n",
      "A value is trying to be set on a copy of a slice from a DataFrame\n",
      "\n",
      "See the caveats in the documentation: https://pandas.pydata.org/pandas-docs/stable/user_guide/indexing.html#returning-a-view-versus-a-copy\n",
      "  labels[part][index] = 1\n"
     ]
    }
   ],
   "source": [
    "categories = []\n",
    "for index, row in labels.iterrows():\n",
    "    parts = row['labels'].split(' ')\n",
    "    for part in parts:\n",
    "        if part not in categories:\n",
    "            categories.append(part)\n",
    "\n",
    "category_dict = {}\n",
    "for category in categories:\n",
    "    labels[category] = np.zeros(labels.shape[0])\n",
    "    category_dict[category] = 0\n",
    "\n",
    "for index, row in labels.iterrows():\n",
    "    parts = row['labels'].split(' ')\n",
    "    for part in parts:\n",
    "        labels[part][index] = 1\n",
    "        category_dict[part] += 1\n",
    "\n",
    "labels = labels.drop(['labels'], axis=1)"
   ],
   "metadata": {
    "collapsed": false,
    "pycharm": {
     "name": "#%%\n"
    }
   }
  },
  {
   "cell_type": "code",
   "execution_count": 15,
   "outputs": [
    {
     "data": {
      "text/plain": "<Figure size 432x288 with 1 Axes>",
      "image/png": "[encoded data removed]"
     },
     "metadata": {
      "needs_background": "light"
     },
     "output_type": "display_data"
    }
   ],
   "source": [
    "cat_dict = dict(sorted(category_dict.items(), key=lambda item: item[1], reverse=True))\n",
    "\n",
    "classes_labels = cat_dict.keys()\n",
    "classes_counts = cat_dict.values()\n",
    "\n",
    "plt.bar(classes_labels, classes_counts)\n",
    "plt.title('Class count')\n",
    "plt.xlabel(\"Classes\", fontsize=20)\n",
    "plt.xticks(rotation=45,fontsize = 10)\n",
    "plt.ylabel(\"Count\", fontsize=20)\n",
    "plt.yticks(fontsize = 10)\n",
    "plt.show()"
   ],
   "metadata": {
    "collapsed": false,
    "pycharm": {
     "name": "#%%\n"
    }
   }
  },
  {
   "cell_type": "code",
   "execution_count": 16,
   "outputs": [],
   "source": [
    "import hashlib\n",
    "import os\n",
    "\n",
    "def file_hash(path):\n",
    "    with open(path, 'rb') as f:\n",
    "        return hashlib.md5(f.read()).hexdigest()\n",
    "\n",
    "duplicates = []\n",
    "hash_set = []\n",
    "new_labels = labels.copy()\n",
    "\n",
    "for index, row in labels.iterrows():\n",
    "    image = row['image']\n",
    "    if path.exists('data/train_images/' + image):\n",
    "        calc_hash = file_hash(os.getcwd() + '\\\\data\\\\train_images\\\\' + image)\n",
    "        if calc_hash in hash_set:\n",
    "            duplicate_index = hash_set.index(calc_hash)\n",
    "            duplicates.append((duplicate_index, index))\n",
    "        hash_set.append(calc_hash)"
   ],
   "metadata": {
    "collapsed": false,
    "pycharm": {
     "name": "#%%\n"
    }
   }
  },
  {
   "cell_type": "code",
   "execution_count": 17,
   "outputs": [
    {
     "name": "stderr",
     "output_type": "stream",
     "text": [
      "<ipython-input-17-3685820d68aa>:6: SettingWithCopyWarning: \n",
      "A value is trying to be set on a copy of a slice from a DataFrame\n",
      "\n",
      "See the caveats in the documentation: https://pandas.pydata.org/pandas-docs/stable/user_guide/indexing.html#returning-a-view-versus-a-copy\n",
      "  labels[category][dup[0]] = 1\n"
     ]
    }
   ],
   "source": [
    "new_labels = labels.copy()\n",
    "to_remove = []\n",
    "for dup in duplicates:\n",
    "    for category in categories:\n",
    "        if labels[category][dup[1]] == 1:\n",
    "            labels[category][dup[0]] = 1\n",
    "    to_remove.append(dup[1])\n",
    "\n",
    "to_remove.sort(reverse=True)\n",
    "\n",
    "removed_images = []\n",
    "for rem in to_remove:\n",
    "    removed_images.append(labels['image'][rem])\n",
    "    new_labels = new_labels.drop(index=rem)\n",
    "    if path.exists('data/train_images/' + labels['image'][rem]):\n",
    "        os.remove(os.getcwd() + '\\\\data\\\\train_images\\\\' + labels['image'][rem])"
   ],
   "metadata": {
    "collapsed": false,
    "pycharm": {
     "name": "#%%\n"
    }
   }
  },
  {
   "cell_type": "code",
   "execution_count": 18,
   "outputs": [],
   "source": [
    "new_labels.to_csv('data/new_train.csv', index=False, encoding='utf-8')"
   ],
   "metadata": {
    "collapsed": false,
    "pycharm": {
     "name": "#%%\n"
    }
   }
  },
  {
   "cell_type": "code",
   "execution_count": 2,
   "outputs": [
    {
     "data": {
      "text/plain": "                  image  healthy  scab  frog_eye_leaf_spot  complex  rust  \\\n0  800113bb65efe69e.jpg      1.0   0.0                 0.0      0.0   0.0   \n1  8002cb321f8bfcdf.jpg      0.0   1.0                 1.0      1.0   0.0   \n2  80070f7fb5e2ccaa.jpg      0.0   1.0                 0.0      0.0   0.0   \n3  80077517781fb94f.jpg      0.0   1.0                 0.0      0.0   0.0   \n4  800cbf0ff87721f8.jpg      0.0   0.0                 0.0      1.0   0.0   \n\n   powdery_mildew  \n0             0.0  \n1             0.0  \n2             0.0  \n3             0.0  \n4             0.0  ",
      "text/html": "<div>\n<style scoped>\n    .dataframe tbody tr th:only-of-type {\n        vertical-align: middle;\n    }\n\n    .dataframe tbody tr th {\n        vertical-align: top;\n    }\n\n    .dataframe thead th {\n        text-align: right;\n    }\n</style>\n<table border=\"1\" class=\"dataframe\">\n  <thead>\n    <tr style=\"text-align: right;\">\n      <th></th>\n      <th>image</th>\n      <th>healthy</th>\n      <th>scab</th>\n      <th>frog_eye_leaf_spot</th>\n      <th>complex</th>\n      <th>rust</th>\n      <th>powdery_mildew</th>\n    </tr>\n  </thead>\n  <tbody>\n    <tr>\n      <th>0</th>\n      <td>800113bb65efe69e.jpg</td>\n      <td>1.0</td>\n      <td>0.0</td>\n      <td>0.0</td>\n      <td>0.0</td>\n      <td>0.0</td>\n      <td>0.0</td>\n    </tr>\n    <tr>\n      <th>1</th>\n      <td>8002cb321f8bfcdf.jpg</td>\n      <td>0.0</td>\n      <td>1.0</td>\n      <td>1.0</td>\n      <td>1.0</td>\n      <td>0.0</td>\n      <td>0.0</td>\n    </tr>\n    <tr>\n      <th>2</th>\n      <td>80070f7fb5e2ccaa.jpg</td>\n      <td>0.0</td>\n      <td>1.0</td>\n      <td>0.0</td>\n      <td>0.0</td>\n      <td>0.0</td>\n      <td>0.0</td>\n    </tr>\n    <tr>\n      <th>3</th>\n      <td>80077517781fb94f.jpg</td>\n      <td>0.0</td>\n      <td>1.0</td>\n      <td>0.0</td>\n      <td>0.0</td>\n      <td>0.0</td>\n      <td>0.0</td>\n    </tr>\n    <tr>\n      <th>4</th>\n      <td>800cbf0ff87721f8.jpg</td>\n      <td>0.0</td>\n      <td>0.0</td>\n      <td>0.0</td>\n      <td>1.0</td>\n      <td>0.0</td>\n      <td>0.0</td>\n    </tr>\n  </tbody>\n</table>\n</div>"
     },
     "execution_count": 2,
     "metadata": {},
     "output_type": "execute_result"
    }
   ],
   "source": [
    "new_labels = pd.read_csv('data/new_train.csv')\n",
    "new_labels.head()"
   ],
   "metadata": {
    "collapsed": false,
    "pycharm": {
     "name": "#%%\n"
    }
   }
  },
  {
   "cell_type": "code",
   "execution_count": 3,
   "outputs": [],
   "source": [
    "config = {\"lr\": 1e-5,\n",
    "          \"num_epoch\": 2,\n",
    "          \"size\": 128,\n",
    "          \"optimizer\": \"adam\",\n",
    "          \"net\": \"VGG11\",\n",
    "          \"batch_size\": 32}"
   ],
   "metadata": {
    "collapsed": false,
    "pycharm": {
     "name": "#%%\n"
    }
   }
  },
  {
   "cell_type": "code",
   "execution_count": 5,
   "outputs": [
    {
     "name": "stdout",
     "output_type": "stream",
     "text": [
      "ERROR! Session/line number was not unique in database. History logging moved to new session 42\n"
     ]
    }
   ],
   "source": [
    "# WARNING! run only one time\n",
    "def resize_image(in_image, image_name):\n",
    "    resized_image = cv2.resize(in_image, (config[\"size\"], config[\"size\"]), interpolation = cv2.INTER_AREA)\n",
    "    cv2.imwrite('data/new_train_images_128/' + image_name, resized_image)\n",
    "\n",
    "# for index, row in new_labels.iterrows():\n",
    "#     if path.exists('data/train_images/' + row['image']):\n",
    "#         resize_image(cv2.imread('data/train_images/' + row['image']), row['image'])"
   ],
   "metadata": {
    "collapsed": false,
    "pycharm": {
     "name": "#%%\n"
    }
   }
  },
  {
   "cell_type": "code",
   "execution_count": 4,
   "outputs": [],
   "source": [
    "def normalize_image(in_image):\n",
    "    in_image = in_image / 255\n",
    "    return in_image\n",
    "\n",
    "image_set = []\n",
    "labels_set = []\n",
    "\n",
    "for index, row in new_labels.iterrows():\n",
    "    if path.exists('data/new_train_images_128/' + row['image']):\n",
    "        image_normalized = normalize_image(cv2.imread('data/new_train_images_128/' + row['image']))\n",
    "        image_set.append((image_normalized, row['image']))\n",
    "        labels_set.append(row)\n",
    "\n",
    "labels_set = pd.DataFrame(labels_set)\n"
   ],
   "metadata": {
    "collapsed": false,
    "pycharm": {
     "name": "#%%\n"
    }
   }
  },
  {
   "cell_type": "code",
   "execution_count": 33,
   "outputs": [],
   "source": [
    "# cv2.namedWindow(\"image\", cv2.WINDOW_NORMAL)\n",
    "# cv2.imshow(\"image\", image_set[0])\n",
    "# cv2.waitKey(0)"
   ],
   "metadata": {
    "collapsed": false,
    "pycharm": {
     "name": "#%%\n"
    }
   }
  },
  {
   "cell_type": "code",
   "execution_count": 5,
   "outputs": [],
   "source": [
    "labels_clear_set = labels_set.drop(['image'], axis=1)\n",
    "\n",
    "X_train, X_test, y_train, y_test = train_test_split(image_set, labels_clear_set, test_size=0.2, shuffle=True, stratify=labels_clear_set)\n",
    "X_test, X_val, y_test, y_val = train_test_split(X_test, y_test, test_size=0.5, shuffle=True, stratify=y_test)\n"
   ],
   "metadata": {
    "collapsed": false,
    "pycharm": {
     "name": "#%%\n"
    }
   }
  },
  {
   "cell_type": "code",
   "execution_count": 6,
   "outputs": [],
   "source": [
    "def balance_set(new_x, new_y):\n",
    "\n",
    "    complex_set = []\n",
    "    complex_set_img = []\n",
    "    rust_set = []\n",
    "    rust_set_img = []\n",
    "    powdery_set = []\n",
    "    powdery_set_img = []\n",
    "    lbl_set = []\n",
    "\n",
    "    j = 0\n",
    "    for new_index, new_row in new_y.iterrows():\n",
    "        if new_row['healthy'] == 0 and new_row['scab'] == 0 and new_row['frog_eye_leaf_spot'] == 0:\n",
    "            if new_row['complex'] == 1 and new_row['rust'] == 0 and new_row['powdery_mildew'] == 0:\n",
    "                complex_set.append(new_row)\n",
    "                complex_set_img.append(new_x[j][1])\n",
    "            if new_row['complex'] == 0 and new_row['rust'] == 1 and new_row['powdery_mildew'] == 0:\n",
    "                rust_set.append(new_row)\n",
    "                rust_set_img.append(new_x[j][1])\n",
    "            if new_row['complex'] == 0 and new_row['rust'] == 0 and new_row['powdery_mildew'] == 1:\n",
    "                powdery_set.append(new_row)\n",
    "                powdery_set_img.append(new_x[j][1])\n",
    "        lbl_set.append(new_row)\n",
    "        j += 1\n",
    "\n",
    "    for new_row, complex_img in zip(complex_set, complex_set_img):\n",
    "        new_image = normalize_image(cv2.imread('data/new_train_images_128/' + complex_img))\n",
    "        for j in range(0, 2):\n",
    "            flip_image = cv2.flip(new_image, j)\n",
    "            new_x.append((flip_image, complex_img))\n",
    "            lbl_set.append(new_row)\n",
    "\n",
    "    print('Complex set done')\n",
    "\n",
    "    for new_row, rust_img in zip(rust_set, rust_set_img):\n",
    "        new_image = normalize_image(cv2.imread('data/new_train_images_128/' + rust_img))\n",
    "        for j in range(0, 2):\n",
    "            flip_image = cv2.flip(new_image, j)\n",
    "            new_x.append((flip_image, rust_img))\n",
    "            lbl_set.append(new_row)\n",
    "\n",
    "    print('Rust set done')\n",
    "\n",
    "    for new_row, powdery_img in zip(powdery_set, powdery_set_img):\n",
    "        new_image = normalize_image(cv2.imread('data/new_train_images_128/' + powdery_img))\n",
    "        for j in range(-1, 2):\n",
    "            flip_image = cv2.flip(new_image, j)\n",
    "            new_x.append((flip_image, powdery_img))\n",
    "            lbl_set.append(new_row)\n",
    "\n",
    "    print('Powdery set done')\n",
    "\n",
    "    new_x, lbl_set = shuffle(new_x, lbl_set)\n",
    "    new_x = [new_part[0] for new_part in new_x]\n",
    "    new_y = pd.DataFrame(lbl_set)\n",
    "    return new_x, new_y\n"
   ],
   "metadata": {
    "collapsed": false,
    "pycharm": {
     "name": "#%%\n"
    }
   }
  },
  {
   "cell_type": "code",
   "execution_count": 7,
   "outputs": [
    {
     "name": "stdout",
     "output_type": "stream",
     "text": [
      "Complex set done\n",
      "Rust set done\n",
      "Powdery set done\n",
      "Complex set done\n",
      "Rust set done\n",
      "Powdery set done\n"
     ]
    }
   ],
   "source": [
    "X_train, y_train = balance_set(X_train, y_train)\n",
    "X_test, y_test = balance_set(X_test, y_test)\n",
    "X_val = [part[0] for part in X_val]"
   ],
   "metadata": {
    "collapsed": false,
    "pycharm": {
     "name": "#%%\n"
    }
   }
  },
  {
   "cell_type": "code",
   "execution_count": 8,
   "outputs": [
    {
     "data": {
      "text/plain": "<Figure size 432x288 with 1 Axes>",
      "image/png": "[encoded data removed]"
     },
     "metadata": {
      "needs_background": "light"
     },
     "output_type": "display_data"
    },
    {
     "data": {
      "text/plain": "<Figure size 432x288 with 1 Axes>",
      "image/png": "[encoded data removed]"
     },
     "metadata": {
      "needs_background": "light"
     },
     "output_type": "display_data"
    },
    {
     "data": {
      "text/plain": "<Figure size 432x288 with 1 Axes>",
      "image/png": "[encoded data removed]"
     },
     "metadata": {
      "needs_background": "light"
     },
     "output_type": "display_data"
    },
    {
     "name": "stdout",
     "output_type": "stream",
     "text": [
      "Complex train:\t4260\ttest:\t533\tval:\t213\n",
      "Healthy train:\t3699\ttest:\t462\tval:\t463\n",
      "Scab train:\t4570\ttest:\t571\tval:\t571\n",
      "Frog train:\t3482\ttest:\t436\tval:\t434\n",
      "Rust train:\t4597\ttest:\t574\tval:\t206\n",
      "Powdery train:\t3858\ttest:\t481\tval:\t127\n"
     ]
    }
   ],
   "source": [
    "count_complex_train = y_train[y_train['complex'] == 1]\n",
    "count_healthy_train = y_train[y_train['healthy'] == 1]\n",
    "count_scab_train = y_train[y_train['scab'] == 1]\n",
    "count_frog_train = y_train[y_train['frog_eye_leaf_spot'] == 1]\n",
    "count_rust_train = y_train[y_train['rust'] == 1]\n",
    "count_powdery_train = y_train[y_train['powdery_mildew'] == 1]\n",
    "\n",
    "count_complex_test = y_test[y_test['complex'] == 1]\n",
    "count_healthy_test = y_test[y_test['healthy'] == 1]\n",
    "count_scab_test = y_test[y_test['scab'] == 1]\n",
    "count_frog_test = y_test[y_test['frog_eye_leaf_spot'] == 1]\n",
    "count_rust_test = y_test[y_test['rust'] == 1]\n",
    "count_powdery_test = y_test[y_test['powdery_mildew'] == 1]\n",
    "\n",
    "count_complex_val = y_val[y_val['complex'] == 1]\n",
    "count_healthy_val = y_val[y_val['healthy'] == 1]\n",
    "count_scab_val = y_val[y_val['scab'] == 1]\n",
    "count_frog_val = y_val[y_val['frog_eye_leaf_spot'] == 1]\n",
    "count_rust_val = y_val[y_val['rust'] == 1]\n",
    "count_powdery_val = y_val[y_val['powdery_mildew'] == 1]\n",
    "\n",
    "titles = ['complex', 'healthy', 'scab', 'frog_eye_leaf_spot', 'rust', 'powdery_mildew']\n",
    "set_train = [count_complex_train.shape[0], count_healthy_train.shape[0], count_scab_train.shape[0], count_frog_train.shape[0], count_rust_train.shape[0], count_powdery_train.shape[0]]\n",
    "set_test = [count_complex_test.shape[0], count_healthy_test.shape[0], count_scab_test.shape[0], count_frog_test.shape[0], count_rust_test.shape[0], count_powdery_test.shape[0]]\n",
    "set_val = [count_complex_val.shape[0], count_healthy_val.shape[0], count_scab_val.shape[0], count_frog_val.shape[0], count_rust_val.shape[0], count_powdery_val.shape[0]]\n",
    "\n",
    "plt.bar(titles, set_train)\n",
    "plt.title('Class train')\n",
    "plt.xlabel(\"Classes\", fontsize=20)\n",
    "plt.xticks(rotation=45,fontsize = 10)\n",
    "plt.ylabel(\"Count\", fontsize=20)\n",
    "plt.yticks(fontsize = 10)\n",
    "plt.show()\n",
    "\n",
    "plt.bar(titles, set_test)\n",
    "plt.title('Class test')\n",
    "plt.xlabel(\"Classes\", fontsize=20)\n",
    "plt.xticks(rotation=45,fontsize = 10)\n",
    "plt.ylabel(\"Count\", fontsize=20)\n",
    "plt.yticks(fontsize = 10)\n",
    "plt.show()\n",
    "\n",
    "plt.bar(titles, set_val)\n",
    "plt.title('Class val')\n",
    "plt.xlabel(\"Classes\", fontsize=20)\n",
    "plt.xticks(rotation=45,fontsize = 10)\n",
    "plt.ylabel(\"Count\", fontsize=20)\n",
    "plt.yticks(fontsize = 10)\n",
    "plt.show()\n",
    "\n",
    "print('Complex train:\\t' + str(count_complex_train.shape[0]) + '\\ttest:\\t' + str(count_complex_test.shape[0]) + '\\tval:\\t' + str(count_complex_val.shape[0]))\n",
    "print('Healthy train:\\t' + str(count_healthy_train.shape[0]) + '\\ttest:\\t' + str(count_healthy_test.shape[0]) + '\\tval:\\t' + str(count_healthy_val.shape[0]))\n",
    "print('Scab train:\\t' + str(count_scab_train.shape[0]) + '\\ttest:\\t' + str(count_scab_test.shape[0]) + '\\tval:\\t' + str(count_scab_val.shape[0]))\n",
    "print('Frog train:\\t' + str(count_frog_train.shape[0]) + '\\ttest:\\t' + str(count_frog_test.shape[0]) + '\\tval:\\t' + str(count_frog_val.shape[0]))\n",
    "print('Rust train:\\t' + str(count_rust_train.shape[0]) + '\\ttest:\\t' + str(count_rust_test.shape[0]) + '\\tval:\\t' + str(count_rust_val.shape[0]))\n",
    "print('Powdery train:\\t' + str(count_powdery_train.shape[0]) + '\\ttest:\\t' + str(count_powdery_test.shape[0]) + '\\tval:\\t' + str(count_powdery_val.shape[0]))"
   ],
   "metadata": {
    "collapsed": false,
    "pycharm": {
     "name": "#%%\n"
    }
   }
  },
  {
   "cell_type": "code",
   "execution_count": 9,
   "outputs": [
    {
     "name": "stdout",
     "output_type": "stream",
     "text": [
      "Model: \"sequential\"\n",
      "_________________________________________________________________\n",
      "Layer (type)                 Output Shape              Param #   \n",
      "=================================================================\n",
      "zero_padding2d (ZeroPadding2 (None, 130, 130, 3)       0         \n",
      "_________________________________________________________________\n",
      "conv2d (Conv2D)              (None, 128, 128, 64)      1792      \n",
      "_________________________________________________________________\n",
      "activation (Activation)      (None, 128, 128, 64)      0         \n",
      "_________________________________________________________________\n",
      "max_pooling2d (MaxPooling2D) (None, 64, 64, 64)        0         \n",
      "_________________________________________________________________\n",
      "zero_padding2d_1 (ZeroPaddin (None, 66, 66, 64)        0         \n",
      "_________________________________________________________________\n",
      "conv2d_1 (Conv2D)            (None, 64, 64, 128)       73856     \n",
      "_________________________________________________________________\n",
      "activation_1 (Activation)    (None, 64, 64, 128)       0         \n",
      "_________________________________________________________________\n",
      "max_pooling2d_1 (MaxPooling2 (None, 32, 32, 128)       0         \n",
      "_________________________________________________________________\n",
      "zero_padding2d_2 (ZeroPaddin (None, 34, 34, 128)       0         \n",
      "_________________________________________________________________\n",
      "conv2d_2 (Conv2D)            (None, 32, 32, 256)       295168    \n",
      "_________________________________________________________________\n",
      "activation_2 (Activation)    (None, 32, 32, 256)       0         \n",
      "_________________________________________________________________\n",
      "zero_padding2d_3 (ZeroPaddin (None, 34, 34, 256)       0         \n",
      "_________________________________________________________________\n",
      "conv2d_3 (Conv2D)            (None, 32, 32, 256)       590080    \n",
      "_________________________________________________________________\n",
      "activation_3 (Activation)    (None, 32, 32, 256)       0         \n",
      "_________________________________________________________________\n",
      "max_pooling2d_2 (MaxPooling2 (None, 16, 16, 256)       0         \n",
      "_________________________________________________________________\n",
      "zero_padding2d_4 (ZeroPaddin (None, 18, 18, 256)       0         \n",
      "_________________________________________________________________\n",
      "conv2d_4 (Conv2D)            (None, 16, 16, 512)       1180160   \n",
      "_________________________________________________________________\n",
      "activation_4 (Activation)    (None, 16, 16, 512)       0         \n",
      "_________________________________________________________________\n",
      "zero_padding2d_5 (ZeroPaddin (None, 18, 18, 512)       0         \n",
      "_________________________________________________________________\n",
      "conv2d_5 (Conv2D)            (None, 16, 16, 512)       2359808   \n",
      "_________________________________________________________________\n",
      "activation_5 (Activation)    (None, 16, 16, 512)       0         \n",
      "_________________________________________________________________\n",
      "max_pooling2d_3 (MaxPooling2 (None, 8, 8, 512)         0         \n",
      "_________________________________________________________________\n",
      "zero_padding2d_6 (ZeroPaddin (None, 10, 10, 512)       0         \n",
      "_________________________________________________________________\n",
      "conv2d_6 (Conv2D)            (None, 8, 8, 512)         2359808   \n",
      "_________________________________________________________________\n",
      "activation_6 (Activation)    (None, 8, 8, 512)         0         \n",
      "_________________________________________________________________\n",
      "zero_padding2d_7 (ZeroPaddin (None, 10, 10, 512)       0         \n",
      "_________________________________________________________________\n",
      "conv2d_7 (Conv2D)            (None, 8, 8, 512)         2359808   \n",
      "_________________________________________________________________\n",
      "activation_7 (Activation)    (None, 8, 8, 512)         0         \n",
      "_________________________________________________________________\n",
      "max_pooling2d_4 (MaxPooling2 (None, 4, 4, 512)         0         \n",
      "_________________________________________________________________\n",
      "flatten (Flatten)            (None, 8192)              0         \n",
      "_________________________________________________________________\n",
      "dense (Dense)                (None, 4096)              33558528  \n",
      "_________________________________________________________________\n",
      "activation_8 (Activation)    (None, 4096)              0         \n",
      "_________________________________________________________________\n",
      "dropout (Dropout)            (None, 4096)              0         \n",
      "_________________________________________________________________\n",
      "dense_1 (Dense)              (None, 4096)              16781312  \n",
      "_________________________________________________________________\n",
      "activation_9 (Activation)    (None, 4096)              0         \n",
      "_________________________________________________________________\n",
      "dropout_1 (Dropout)          (None, 4096)              0         \n",
      "_________________________________________________________________\n",
      "dense_2 (Dense)              (None, 6)                 24582     \n",
      "_________________________________________________________________\n",
      "activation_10 (Activation)   (None, 6)                 0         \n",
      "=================================================================\n",
      "Total params: 59,584,902\n",
      "Trainable params: 59,584,902\n",
      "Non-trainable params: 0\n",
      "_________________________________________________________________\n"
     ]
    }
   ],
   "source": [
    "model = Sequential()\n",
    "\n",
    "model.add(ZeroPadding2D((1, 1), input_shape=(config['size'], config['size'], 3)))\n",
    "model.add(Conv2D(64, (3, 3)))\n",
    "model.add(Activation('relu'))\n",
    "# model.add(ZeroPadding2D((1, 1)))\n",
    "# model.add(Conv2D(64, (3, 3)))\n",
    "# model.add(Activation('relu'))\n",
    "model.add(MaxPooling2D(pool_size=(2, 2), strides=(2, 2)))\n",
    "\n",
    "model.add(ZeroPadding2D((1, 1)))\n",
    "model.add(Conv2D(128, (3, 3)))\n",
    "model.add(Activation('relu'))\n",
    "# model.add(ZeroPadding2D((1, 1)))\n",
    "# model.add(Conv2D(128, (3, 3)))\n",
    "# model.add(Activation('relu'))\n",
    "model.add(MaxPooling2D(pool_size=(2, 2), strides=(2, 2)))\n",
    "\n",
    "model.add(ZeroPadding2D((1, 1)))\n",
    "model.add(Conv2D(256, (3, 3)))\n",
    "model.add(Activation('relu'))\n",
    "model.add(ZeroPadding2D((1, 1)))\n",
    "model.add(Conv2D(256, (3, 3)))\n",
    "model.add(Activation('relu'))\n",
    "model.add(MaxPooling2D(pool_size=(2, 2), strides=(2, 2)))\n",
    "\n",
    "model.add(ZeroPadding2D((1, 1)))\n",
    "model.add(Conv2D(512, (3, 3)))\n",
    "model.add(Activation('relu'))\n",
    "model.add(ZeroPadding2D((1, 1)))\n",
    "model.add(Conv2D(512, (3, 3)))\n",
    "model.add(Activation('relu'))\n",
    "model.add(MaxPooling2D(pool_size=(2, 2), strides=(2, 2)))\n",
    "\n",
    "model.add(ZeroPadding2D((1, 1)))\n",
    "model.add(Conv2D(512, (3, 3)))\n",
    "model.add(Activation('relu'))\n",
    "model.add(ZeroPadding2D((1, 1)))\n",
    "model.add(Conv2D(512, (3, 3)))\n",
    "model.add(Activation('relu'))\n",
    "model.add(MaxPooling2D(pool_size=(2, 2), strides=(2, 2)))\n",
    "\n",
    "model.add(Flatten())\n",
    "model.add(Dense(4096))\n",
    "model.add(Activation('relu'))\n",
    "model.add(Dropout(0.5))\n",
    "model.add(Dense(4096))\n",
    "model.add(Activation('relu'))\n",
    "model.add(Dropout(0.5))\n",
    "model.add(Dense(6))\n",
    "model.add(Activation('sigmoid'))\n",
    "\n",
    "model.summary()"
   ],
   "metadata": {
    "collapsed": false,
    "pycharm": {
     "name": "#%%\n"
    }
   }
  },
  {
   "cell_type": "code",
   "execution_count": 9,
   "outputs": [
    {
     "data": {
      "text/plain": "<IPython.core.display.HTML object>",
      "text/html": "\n                Tracking run with wandb version 0.10.25<br/>\n                Syncing run <strong style=\"color:#cdcd00\">driven-sunset-4</strong> to <a href=\"https://wandb.ai\" target=\"_blank\">Weights & Biases</a> <a href=\"https://docs.wandb.com/integrations/jupyter.html\" target=\"_blank\">(Documentation)</a>.<br/>\n                Project page: <a href=\"https://wandb.ai/camperko/plant-pathology\" target=\"_blank\">https://wandb.ai/camperko/plant-pathology</a><br/>\n                Run page: <a href=\"https://wandb.ai/camperko/plant-pathology/runs/2tcr67a6\" target=\"_blank\">https://wandb.ai/camperko/plant-pathology/runs/2tcr67a6</a><br/>\n                Run data is saved locally in <code>C:\\Programming\\NSIETE\\Assignment\\NSIETE-assignment_2-gpu\\NSIETE-assignment_2\\wandb\\run-20210409_012140-2tcr67a6</code><br/><br/>\n            "
     },
     "metadata": {},
     "output_type": "display_data"
    }
   ],
   "source": [
    "run = wandb.init(project=\"plant-pathology\")\n",
    "\n",
    "wandb.config.update(config)"
   ],
   "metadata": {
    "collapsed": false,
    "pycharm": {
     "name": "#%%\n"
    }
   }
  },
  {
   "cell_type": "code",
   "execution_count": 10,
   "outputs": [],
   "source": [
    "# Memory clean\n",
    "\n",
    "del count_complex_test\n",
    "del count_complex_train\n",
    "del count_complex_val\n",
    "del count_frog_test\n",
    "del count_frog_train\n",
    "del count_frog_val\n",
    "del count_healthy_test\n",
    "del count_healthy_train\n",
    "del count_healthy_val\n",
    "del count_powdery_test\n",
    "del count_powdery_train\n",
    "del count_powdery_val\n",
    "del count_rust_test\n",
    "del count_rust_train\n",
    "del count_rust_val\n",
    "del count_scab_test\n",
    "del count_scab_train\n",
    "del count_scab_val\n",
    "del image_set\n",
    "del labels_clear_set\n",
    "del labels_set\n",
    "del new_labels\n"
   ],
   "metadata": {
    "collapsed": false,
    "pycharm": {
     "name": "#%%\n"
    }
   }
  },
  {
   "cell_type": "code",
   "execution_count": 13,
   "outputs": [],
   "source": [
    "model.compile(loss='binary_crossentropy',\n",
    "              optimizer='adam',\n",
    "              metrics=[\n",
    "                  tf.keras.metrics.BinaryAccuracy(name='acc'),\n",
    "                  tfa.metrics.F1Score(\n",
    "                      num_classes=6,\n",
    "                      average='macro'\n",
    "                  )\n",
    "              ])\n",
    "\n",
    "history = model.fit(\n",
    "    np.asarray(X_train), y_train,\n",
    "    epochs=config['num_epoch'],\n",
    "    validation_data=(np.asarray(X_test), y_test),\n",
    "    batch_size=config['batch_size'],\n",
    "    callbacks=[WandbCallback()]\n",
    ")"
   ],
   "metadata": {
    "collapsed": false,
    "pycharm": {
     "name": "#%%\n"
    }
   }
  },
  {
   "cell_type": "code",
   "execution_count": null,
   "outputs": [],
   "source": [
    "pred = model.predict(np.asarray(X_val))\n",
    "\n",
    "sum_positive = 0\n",
    "for i in range(0, len(pred)):\n",
    "    if pred[i][0] == y_val[i]['healthy'] and pred[i][1] == y_val[i]['scab'] and pred[i][2] == y_val[i]['frog_eye_leaf_spot']\\\n",
    "            and pred[i][3] == y_val[i]['complex'] and pred[i][4] == y_val[i]['rust'] and pred[i][5] == y_val[i]['powdery_mildew']:\n",
    "        sum_positive += 1\n",
    "\n",
    "print(sum_positive / len(pred))"
   ],
   "metadata": {
    "collapsed": false,
    "pycharm": {
     "name": "#%%\n"
    }
   }
  },
  {
   "cell_type": "code",
   "execution_count": 11,
   "outputs": [
    {
     "data": {
      "text/plain": "<IPython.core.display.HTML object>",
      "text/html": "<br/>Waiting for W&B process to finish, PID 18316<br/>Program ended successfully."
     },
     "metadata": {},
     "output_type": "display_data"
    },
    {
     "data": {
      "text/plain": "VBox(children=(Label(value=' 227.37MB of 227.37MB uploaded (0.00MB deduped)\\r'), FloatProgress(value=1.0, max=…",
      "application/vnd.jupyter.widget-view+json": {
       "version_major": 2,
       "version_minor": 0,
       "model_id": "4120e5d5351e4e33aa07df329c3633f2"
      }
     },
     "metadata": {},
     "output_type": "display_data"
    },
    {
     "data": {
      "text/plain": "<IPython.core.display.HTML object>",
      "text/html": "Find user logs for this run at: <code>C:\\Programming\\NSIETE\\Assignment\\NSIETE-assignment_2-gpu\\NSIETE-assignment_2\\wandb\\run-20210409_012140-2tcr67a6\\logs\\debug.log</code>"
     },
     "metadata": {},
     "output_type": "display_data"
    },
    {
     "data": {
      "text/plain": "<IPython.core.display.HTML object>",
      "text/html": "Find internal logs for this run at: <code>C:\\Programming\\NSIETE\\Assignment\\NSIETE-assignment_2-gpu\\NSIETE-assignment_2\\wandb\\run-20210409_012140-2tcr67a6\\logs\\debug-internal.log</code>"
     },
     "metadata": {},
     "output_type": "display_data"
    },
    {
     "data": {
      "text/plain": "<IPython.core.display.HTML object>",
      "text/html": "<h3>Run summary:</h3><br/><style>\n    table.wandb td:nth-child(1) { padding: 0 10px; text-align: right }\n    </style><table class=\"wandb\">\n<tr><td>epoch</td><td>1</td></tr><tr><td>loss</td><td>0.46511</td></tr><tr><td>acc</td><td>0.82441</td></tr><tr><td>f1_score</td><td>0.13612</td></tr><tr><td>val_loss</td><td>0.46475</td></tr><tr><td>val_acc</td><td>0.82431</td></tr><tr><td>val_f1_score</td><td>0.05508</td></tr><tr><td>_runtime</td><td>370</td></tr><tr><td>_timestamp</td><td>1617924470</td></tr><tr><td>_step</td><td>1</td></tr><tr><td>best_val_loss</td><td>0.46406</td></tr><tr><td>best_epoch</td><td>0</td></tr></table>"
     },
     "metadata": {},
     "output_type": "display_data"
    },
    {
     "data": {
      "text/plain": "<IPython.core.display.HTML object>",
      "text/html": "<h3>Run history:</h3><br/><style>\n    table.wandb td:nth-child(1) { padding: 0 10px; text-align: right }\n    </style><table class=\"wandb\">\n<tr><td>epoch</td><td>▁█</td></tr><tr><td>loss</td><td>█▁</td></tr><tr><td>acc</td><td>▁█</td></tr><tr><td>f1_score</td><td>█▁</td></tr><tr><td>val_loss</td><td>▁█</td></tr><tr><td>val_acc</td><td>▁▁</td></tr><tr><td>val_f1_score</td><td>▁█</td></tr><tr><td>_runtime</td><td>▁█</td></tr><tr><td>_timestamp</td><td>▁█</td></tr><tr><td>_step</td><td>▁█</td></tr></table><br/>"
     },
     "metadata": {},
     "output_type": "display_data"
    },
    {
     "data": {
      "text/plain": "<IPython.core.display.HTML object>",
      "text/html": "Synced 5 W&B file(s), 1 media file(s), 0 artifact file(s) and 1 other file(s)"
     },
     "metadata": {},
     "output_type": "display_data"
    },
    {
     "data": {
      "text/plain": "<IPython.core.display.HTML object>",
      "text/html": "\n                    <br/>Synced <strong style=\"color:#cdcd00\">driven-sunset-4</strong>: <a href=\"https://wandb.ai/camperko/plant-pathology/runs/2tcr67a6\" target=\"_blank\">https://wandb.ai/camperko/plant-pathology/runs/2tcr67a6</a><br/>\n                "
     },
     "metadata": {},
     "output_type": "display_data"
    }
   ],
   "source": [
    "run.finish()"
   ],
   "metadata": {
    "collapsed": false,
    "pycharm": {
     "name": "#%%\n"
    }
   }
  }
 ],
 "metadata": {
  "kernelspec": {
   "display_name": "Python 3",
   "language": "python",
   "name": "python3"
  },
  "language_info": {
   "codemirror_mode": {
    "name": "ipython",
    "version": 2
   },
   "file_extension": ".py",
   "mimetype": "text/x-python",
   "name": "python",
   "nbconvert_exporter": "python",
   "pygments_lexer": "ipython2",
   "version": "2.7.6"
  }
 },
 "nbformat": 4,
 "nbformat_minor": 0
}